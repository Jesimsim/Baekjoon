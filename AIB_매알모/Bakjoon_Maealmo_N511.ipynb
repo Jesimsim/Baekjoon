{
  "nbformat": 4,
  "nbformat_minor": 0,
  "metadata": {
    "colab": {
      "provenance": [],
      "authorship_tag": "ABX9TyN/OnanSIW3PnyKsctWHy3V",
      "include_colab_link": true
    },
    "kernelspec": {
      "name": "python3",
      "display_name": "Python 3"
    },
    "language_info": {
      "name": "python"
    }
  },
  "cells": [
    {
      "cell_type": "markdown",
      "metadata": {
        "id": "view-in-github",
        "colab_type": "text"
      },
      "source": [
        "<a href=\"https://colab.research.google.com/github/Jesimsim/Baekjoon/blob/main/AIB_%EB%A7%A4%EC%95%8C%EB%AA%A8/Bakjoon_Maealmo_N511.ipynb\" target=\"_parent\"><img src=\"https://colab.research.google.com/assets/colab-badge.svg\" alt=\"Open In Colab\"/></a>"
      ]
    },
    {
      "cell_type": "code",
      "source": [
        "# 10869) 행렬의 사칙연산 \n",
        "a, b = map(int, input().split())\n",
        "lst_a, lst_b = [], []\n",
        "\n",
        "for i in range(a):\n",
        "  lst_a.append(list(map(int, input().split())))\n",
        "\n",
        "for i in range(a):\n",
        "  lst_b.append(list(map(int, input().split())))\n",
        "\n",
        "for i in range(a):\n",
        "  for j in range(b):\n",
        "    print(lst_a[i][j] + lst_b[i][j], end=' ')\n",
        "  print()"
      ],
      "metadata": {
        "colab": {
          "base_uri": "https://localhost:8080/"
        },
        "id": "7QkAT11wNE_C",
        "outputId": "cc454b01-f57c-44ac-f517-7c35f614f681"
      },
      "execution_count": null,
      "outputs": [
        {
          "output_type": "stream",
          "name": "stdout",
          "text": [
            "3 4\n",
            "1 1 1 1\n",
            "2 2 2 2 \n",
            "3 3 3 3\n",
            "4 4 4 4\n",
            "5 5 5 5\n",
            "6 6 6 6\n",
            "5 5 5 5 \n",
            "7 7 7 7 \n",
            "9 9 9 9 \n"
          ]
        }
      ]
    },
    {
      "cell_type": "markdown",
      "source": [
        "- https://jaimemin.tistory.com/1522 런타임에러 EOFerror\n",
        "- modulenotfound 라이브러리 사용 불가 numpy 등 "
      ],
      "metadata": {
        "id": "0-9cf7e-RTDs"
      }
    },
    {
      "cell_type": "code",
      "source": [
        "# 2566) 최댓값 \n",
        "\n",
        "lst = []\n",
        "num_fin, row_fin, col_fin = 0, 0, 0\n",
        "\n",
        "for i in range(9):\n",
        "  lst_new = list(map(int, input().split()))\n",
        "  num_new = max(lst_new)\n",
        "  row_new = i\n",
        "  col_new = lst_new.index(num_new)\n",
        "  if num_new > num_fin:\n",
        "    num_fin = num_new\n",
        "    row_fin = row_new\n",
        "    col_fin = col_new\n",
        "  else :\n",
        "    continue\n",
        "print(num_fin)\n",
        "print(row_fin+1, col_fin+1)"
      ],
      "metadata": {
        "colab": {
          "base_uri": "https://localhost:8080/"
        },
        "id": "-xG_oZ-USRfJ",
        "outputId": "a0427823-5363-4199-8e4a-403ff78b3e8e"
      },
      "execution_count": null,
      "outputs": [
        {
          "output_type": "stream",
          "name": "stdout",
          "text": [
            "1 2 3\n",
            "5 6 7\n",
            "100 5 1\n",
            "100\n",
            "3 1\n"
          ]
        }
      ]
    },
    {
      "cell_type": "code",
      "source": [
        "# 2750) 수 정렬\n",
        "a = int(input())\n",
        "lst = []\n",
        "\n",
        "for i in range(a):\n",
        "  lst.append(int(input()))\n",
        "\n",
        "lst.sort()\n",
        "\n",
        "for i in lst:\n",
        "  print(i)"
      ],
      "metadata": {
        "colab": {
          "base_uri": "https://localhost:8080/"
        },
        "id": "7leHyRQJVWy4",
        "outputId": "ef89320b-3b8a-4287-e8ed-8b35f3656680"
      },
      "execution_count": null,
      "outputs": [
        {
          "output_type": "stream",
          "name": "stdout",
          "text": [
            "3\n",
            "1\n",
            "5\n",
            "3\n",
            "1\n",
            "3\n",
            "5\n"
          ]
        }
      ]
    },
    {
      "cell_type": "code",
      "source": [
        "lst = [1, 3, 5]\n",
        "print(' '.join(str(num) for num in lst)) #숫자리스트 문자열로 변환"
      ],
      "metadata": {
        "colab": {
          "base_uri": "https://localhost:8080/"
        },
        "id": "aW2Hhd8gWKY9",
        "outputId": "bea50871-fdbf-43a4-a741-5fd27ff5f85c"
      },
      "execution_count": null,
      "outputs": [
        {
          "output_type": "stream",
          "name": "stdout",
          "text": [
            "1 3 5\n"
          ]
        }
      ]
    },
    {
      "cell_type": "code",
      "source": [
        "from sympy import symbols, solve\n",
        "x, y, z = symbols('x, y, z')\n",
        "a, b, c = map(int, input().split())\n",
        "equation1 = 15 * x - 28 * y + a - b\n",
        "equation2 = 28 * y - 19 * z + b - c\n",
        "equation3 = 19 * x - 15 * x + c - a\n",
        "solve((equation1, equation2, equation3), dict=True)"
      ],
      "metadata": {
        "colab": {
          "base_uri": "https://localhost:8080/"
        },
        "id": "IGdpqRbeb1va",
        "outputId": "dac53a3b-0c7b-400b-8f62-1a23a8c86fbb"
      },
      "execution_count": null,
      "outputs": [
        {
          "name": "stdout",
          "output_type": "stream",
          "text": [
            "1 16 16\n"
          ]
        },
        {
          "output_type": "execute_result",
          "data": {
            "text/plain": [
              "[{x: -15/4, y: -285/112, z: -15/4}]"
            ]
          },
          "metadata": {},
          "execution_count": 42
        }
      ]
    }
  ]
}