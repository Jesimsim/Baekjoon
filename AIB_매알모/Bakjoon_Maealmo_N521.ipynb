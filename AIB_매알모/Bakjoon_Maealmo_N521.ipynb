{
  "nbformat": 4,
  "nbformat_minor": 0,
  "metadata": {
    "colab": {
      "provenance": [],
      "authorship_tag": "ABX9TyOCgAF7V0281nw0BJbtxGZ/",
      "include_colab_link": true
    },
    "kernelspec": {
      "name": "python3",
      "display_name": "Python 3"
    },
    "language_info": {
      "name": "python"
    }
  },
  "cells": [
    {
      "cell_type": "markdown",
      "metadata": {
        "id": "view-in-github",
        "colab_type": "text"
      },
      "source": [
        "<a href=\"https://colab.research.google.com/github/Jesimsim/Baekjoon/blob/main/AIB_%EB%A7%A4%EC%95%8C%EB%AA%A8/Bakjoon_Maealmo_N521.ipynb\" target=\"_parent\"><img src=\"https://colab.research.google.com/assets/colab-badge.svg\" alt=\"Open In Colab\"/></a>"
      ]
    },
    {
      "cell_type": "code",
      "execution_count": 2,
      "metadata": {
        "colab": {
          "base_uri": "https://localhost:8080/"
        },
        "id": "9NkDjRtHzVO_",
        "outputId": "2d74e36f-46d7-48c6-9cdd-601f50f88147"
      },
      "outputs": [
        {
          "output_type": "stream",
          "name": "stdout",
          "text": [
            "10\n",
            "40\n",
            "30\n",
            "60\n",
            "30\n",
            "34\n",
            "30\n"
          ]
        }
      ],
      "source": [
        "# 2587) 대표값2 / 중앙값, 평균 \n",
        "lst = []\n",
        "for i in range(5):\n",
        "  lst.append(int(input()))\n",
        "lst.sort()\n",
        "print(int(sum(lst)/len(lst)))\n",
        "print(lst[round(len(lst)//2)])"
      ]
    },
    {
      "cell_type": "code",
      "source": [
        "# 25305) 커트라인\n",
        "n, k = map(int, input().split())\n",
        "lst = list(map(int, input().split()))\n",
        "lst.sort()\n",
        "print(lst[-k])"
      ],
      "metadata": {
        "colab": {
          "base_uri": "https://localhost:8080/"
        },
        "id": "4PrHraz7zY6w",
        "outputId": "d9d1922e-9151-4c12-f616-0e54350194f3"
      },
      "execution_count": 3,
      "outputs": [
        {
          "output_type": "stream",
          "name": "stdout",
          "text": [
            "5 2\n",
            "100 76 85 93 98\n",
            "98\n"
          ]
        }
      ]
    }
  ]
}