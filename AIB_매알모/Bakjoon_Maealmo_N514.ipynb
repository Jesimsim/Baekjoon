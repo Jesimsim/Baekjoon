{
  "nbformat": 4,
  "nbformat_minor": 0,
  "metadata": {
    "colab": {
      "provenance": [],
      "authorship_tag": "ABX9TyNYimVssXAfrUFr5ilEPdFG",
      "include_colab_link": true
    },
    "kernelspec": {
      "name": "python3",
      "display_name": "Python 3"
    },
    "language_info": {
      "name": "python"
    }
  },
  "cells": [
    {
      "cell_type": "markdown",
      "metadata": {
        "id": "view-in-github",
        "colab_type": "text"
      },
      "source": [
        "<a href=\"https://colab.research.google.com/github/Jesimsim/Baekjoon/blob/main/AIB_%EB%A7%A4%EC%95%8C%EB%AA%A8/Bakjoon_Maealmo_N514.ipynb\" target=\"_parent\"><img src=\"https://colab.research.google.com/assets/colab-badge.svg\" alt=\"Open In Colab\"/></a>"
      ]
    },
    {
      "cell_type": "code",
      "execution_count": null,
      "metadata": {
        "colab": {
          "base_uri": "https://localhost:8080/"
        },
        "id": "ZYiKZ5UhMj74",
        "outputId": "19f593c7-ec34-497d-ea3e-af1e1311f564"
      },
      "outputs": [
        {
          "output_type": "stream",
          "name": "stdout",
          "text": [
            "6\n",
            "6\n",
            "9\n",
            "7\n",
            "6\n",
            "4\n",
            "6\n",
            "-----\n",
            "6\n",
            "1\n",
            "4\n",
            "6\n",
            "7\n",
            "2\n",
            "9\n",
            "3\n"
          ]
        }
      ],
      "source": [
        "# 17608) 막대기\n",
        "\n",
        "# case 1 / 시간초과\n",
        "n = int(input())\n",
        "lst = [ int(input()) for i in range(n)]\n",
        "a = 0\n",
        "count = 0\n",
        "\n",
        "for i in range(n-1,0, -1):\n",
        "  if lst[i] > a:\n",
        "    a = lst[i]\n",
        "    count += 1\n",
        "\n",
        "print(count)"
      ]
    },
    {
      "cell_type": "code",
      "source": [
        "# case 2 / 틀림\n",
        "n = int(input())\n",
        "lst = [ int(input()) for i in range(n)][::-1]\n",
        "fin = [lst[0]] + [i for i in lst if lst[0]< i] #갱신해줘야 함 \n",
        "print(len(fin))\n"
      ],
      "metadata": {
        "colab": {
          "base_uri": "https://localhost:8080/"
        },
        "id": "4k1v7hEXTcjX",
        "outputId": "0f95e647-98dc-475f-9b3b-d8660a9acc48"
      },
      "execution_count": null,
      "outputs": [
        {
          "output_type": "stream",
          "name": "stdout",
          "text": [
            "6\n",
            "6\n",
            "9\n",
            "7\n",
            "6\n",
            "4\n",
            "6\n",
            "[6, 4, 6, 7, 9, 6]\n",
            "6\n",
            "3\n"
          ]
        }
      ]
    },
    {
      "cell_type": "code",
      "source": [
        "# 2587) 대표값2 / 중앙값, 평균 \n",
        "lst = []\n",
        "for i in range(5):\n",
        "  lst.append(int(input()))\n",
        "lst.sort()\n",
        "print(int(sum(lst)/len(lst)))\n",
        "print(lst[round(len(lst)//2)])"
      ],
      "metadata": {
        "colab": {
          "base_uri": "https://localhost:8080/"
        },
        "id": "e2NimCM9MYfB",
        "outputId": "554da221-f5f0-4d95-b250-e00280f2dd73"
      },
      "execution_count": null,
      "outputs": [
        {
          "output_type": "stream",
          "name": "stdout",
          "text": [
            "10\n",
            "40\n",
            "30\n",
            "60\n",
            "30\n",
            "34\n",
            "30\n"
          ]
        }
      ]
    },
    {
      "cell_type": "code",
      "source": [
        "# 25305) 커트라인\n",
        "n, k = map(int, input().split())\n",
        "lst = list(map(int, input().split()))\n",
        "lst.sort()\n",
        "print(lst[-k])"
      ],
      "metadata": {
        "colab": {
          "base_uri": "https://localhost:8080/"
        },
        "id": "cI5-8ewkNTov",
        "outputId": "f6887d98-a112-4109-e597-34e04fa09fcb"
      },
      "execution_count": null,
      "outputs": [
        {
          "output_type": "stream",
          "name": "stdout",
          "text": [
            "5 2\n",
            "100 76 85 93 98\n",
            "98\n"
          ]
        }
      ]
    }
  ]
}