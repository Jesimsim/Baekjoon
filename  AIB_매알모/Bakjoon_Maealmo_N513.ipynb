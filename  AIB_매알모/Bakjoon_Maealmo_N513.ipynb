{
  "nbformat": 4,
  "nbformat_minor": 0,
  "metadata": {
    "colab": {
      "provenance": [],
      "authorship_tag": "ABX9TyMlg8M1JIrholRFWn8MQDPX",
      "include_colab_link": true
    },
    "kernelspec": {
      "name": "python3",
      "display_name": "Python 3"
    },
    "language_info": {
      "name": "python"
    }
  },
  "cells": [
    {
      "cell_type": "markdown",
      "metadata": {
        "id": "view-in-github",
        "colab_type": "text"
      },
      "source": [
        "<a href=\"https://colab.research.google.com/github/Jesimsim/Baekjoon/blob/main/%20AIB_%EB%A7%A4%EC%95%8C%EB%AA%A8/Bakjoon_Maealmo_N513.ipynb\" target=\"_parent\"><img src=\"https://colab.research.google.com/assets/colab-badge.svg\" alt=\"Open In Colab\"/></a>"
      ]
    },
    {
      "cell_type": "code",
      "execution_count": null,
      "metadata": {
        "colab": {
          "base_uri": "https://localhost:8080/"
        },
        "id": "BgEff3GqUrtm",
        "outputId": "d0325109-408f-4fd9-dd70-fddbc600104c"
      },
      "outputs": [
        {
          "output_type": "stream",
          "name": "stdout",
          "text": [
            "aaah\n",
            "aah\n",
            "go\n"
          ]
        }
      ],
      "source": [
        "#4999) ahhh / 글자수세기 \n",
        "\n",
        "a, b = input(), input()\n",
        "\n",
        "if a.count('a') >= b.count('a'):\n",
        "  print('go')\n",
        "else:\n",
        "  print('no')"
      ]
    },
    {
      "cell_type": "code",
      "source": [
        "# 2163) 초콜릿자르기 / 41B\n",
        "\n",
        "n,m=map(int,input().split())\n",
        "print(n*m-1)  # (n-1) + (m-1) * a == (m-1) + (n-1)*m\n",
        "\n",
        "# 39B / \n",
        "# eval = string을 int로 인식하여 계산해주는 함수\n",
        "# 악의적인 문자열 혹은 사용자주소 노출될 수도 있음(환경의존성 등)\n",
        "print(eval(input().replace(\" \",\"*\"))-1)"
      ],
      "metadata": {
        "colab": {
          "base_uri": "https://localhost:8080/"
        },
        "id": "WDP4Bc01Uk7D",
        "outputId": "f66295eb-a11e-4b52-cb56-022cce79e848"
      },
      "execution_count": null,
      "outputs": [
        {
          "output_type": "stream",
          "name": "stdout",
          "text": [
            "2 5\n",
            "9\n"
          ]
        }
      ]
    },
    {
      "cell_type": "code",
      "source": [
        "# 27465) 소수가 아닌 수\n",
        "# https://adela.love/posts/prime-number 소수판별법\n",
        "# 애드혹문제 : 컴퓨터공학계의 넌센스\n",
        "\n",
        "a=int(input())\n",
        "print(10**9)"
      ],
      "metadata": {
        "id": "Cw-q8Lv9VX-i"
      },
      "execution_count": null,
      "outputs": []
    }
  ]
}