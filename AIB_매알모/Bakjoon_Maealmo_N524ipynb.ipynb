{
  "nbformat": 4,
  "nbformat_minor": 0,
  "metadata": {
    "colab": {
      "provenance": [],
      "authorship_tag": "ABX9TyMTG3gPk1oGdvtIeeY2Hr0d",
      "include_colab_link": true
    },
    "kernelspec": {
      "name": "python3",
      "display_name": "Python 3"
    },
    "language_info": {
      "name": "python"
    }
  },
  "cells": [
    {
      "cell_type": "markdown",
      "metadata": {
        "id": "view-in-github",
        "colab_type": "text"
      },
      "source": [
        "<a href=\"https://colab.research.google.com/github/Jesimsim/Baekjoon/blob/main/AIB_%EB%A7%A4%EC%95%8C%EB%AA%A8/Bakjoon_Maealmo_N524ipynb.ipynb\" target=\"_parent\"><img src=\"https://colab.research.google.com/assets/colab-badge.svg\" alt=\"Open In Colab\"/></a>"
      ]
    },
    {
      "cell_type": "code",
      "execution_count": 33,
      "metadata": {
        "colab": {
          "base_uri": "https://localhost:8080/"
        },
        "id": "PFJhuZ1NqQDB",
        "outputId": "375b5142-3e61-4c97-b9c3-83a58ddfb974"
      },
      "outputs": [
        {
          "output_type": "stream",
          "name": "stdout",
          "text": [
            "5\n",
            "    *\n",
            "   ***\n",
            "  *****\n",
            " *******\n",
            "*********\n",
            " *******\n",
            "  *****\n",
            "   ***\n",
            "    *\n"
          ]
        }
      ],
      "source": [
        "# 2444) 별찍기 / 가운데정렬\n",
        "n = int(input())\n",
        "i = 0\n",
        "\n",
        "for i in range(1, n+1):\n",
        "  print(\" \"*(n-i)+ '*'*(2*i-1)) \n",
        "for i in range(n-1, 0, -1):\n",
        "  print(\" \"*(n-i)+ '*'*(2*i-1)) "
      ]
    },
    {
      "cell_type": "code",
      "source": [
        "# 뒤쪽정렬\n",
        "for i in range(1, 2*n-1, 2):\n",
        "  print(\" \"*(2*n-1-i)+ '*'*i) \n",
        "for i in range(2*n-1, 0, -2):\n",
        "  print(\" \"*(2*n-1-i)+ '*'*i) "
      ],
      "metadata": {
        "colab": {
          "base_uri": "https://localhost:8080/"
        },
        "id": "R7nXmJurwape",
        "outputId": "72b0fca2-26e3-412e-e949-61a1f102ffdc"
      },
      "execution_count": 23,
      "outputs": [
        {
          "output_type": "stream",
          "name": "stdout",
          "text": [
            "        *\n",
            "      ***\n",
            "    *****\n",
            "  *******\n",
            "*********\n",
            "  *******\n",
            "    *****\n",
            "      ***\n",
            "        *\n"
          ]
        }
      ]
    },
    {
      "cell_type": "code",
      "source": [
        "# 패딩 / 뒤쪽에도 스페이스 생김\n",
        "for i in range(1, 2*n-1, 2):\n",
        "  print(\"{0:^{1}}\".format('*'*i, len))\n",
        "for i in range(2*n-1, 0, -2):\n",
        "  print(\"{0:^{1}}\".format('*'*i, len))"
      ],
      "metadata": {
        "colab": {
          "base_uri": "https://localhost:8080/"
        },
        "id": "n0pmWiMixnfh",
        "outputId": "db1ed544-dbe7-42fa-f577-59ecc6b14d07"
      },
      "execution_count": 32,
      "outputs": [
        {
          "output_type": "stream",
          "name": "stdout",
          "text": [
            "    *    \n",
            "   ***   \n",
            "  *****  \n",
            " ******* \n",
            "*********\n",
            " ******* \n",
            "  *****  \n",
            "   ***   \n",
            "    *    \n"
          ]
        }
      ]
    },
    {
      "cell_type": "code",
      "source": [
        "# 이상한 모양... ㅋㅋㅋㅋㅋ\n",
        "for i in range(1, 2*n-1, 2):\n",
        "  a = '*'*i\n",
        "  print(a.rjust(2*n-i//2)) \n",
        "for i in range(2*n-1, 0, -2):\n",
        "  a = '*'*i\n",
        "  print(a.rjust(2*n-i//2))"
      ],
      "metadata": {
        "colab": {
          "base_uri": "https://localhost:8080/"
        },
        "id": "DRePTmeovLcM",
        "outputId": "194c6134-8701-483a-d81e-667e4155a322"
      },
      "execution_count": 21,
      "outputs": [
        {
          "output_type": "stream",
          "name": "stdout",
          "text": [
            "         *\n",
            "      ***\n",
            "   *****\n",
            "*******\n",
            "*********\n",
            "*******\n",
            "   *****\n",
            "      ***\n",
            "         *\n"
          ]
        }
      ]
    },
    {
      "cell_type": "code",
      "source": [
        "#10812) 바구니 순서 바꾸기\n",
        "n, m = map(int, input().split())\n",
        "lst = [i for i in range(1, n+1)]\n",
        "\n",
        "for iter in range(m):\n",
        "  i, j, k = map(int, input().split())\n",
        "  lst = lst[:i-1] + lst[k-1:j] + lst[i-1:k-1] + lst[j:]\n",
        "\n",
        "print(*lst)"
      ],
      "metadata": {
        "colab": {
          "base_uri": "https://localhost:8080/"
        },
        "id": "RAAP4OJ7xyTg",
        "outputId": "f989020f-df9b-458f-8402-fc30bc51547a"
      },
      "execution_count": 42,
      "outputs": [
        {
          "output_type": "stream",
          "name": "stdout",
          "text": [
            "10 5\n",
            "1 6 4\n",
            "3 9 8\n",
            "2 10 5\n",
            "1 3 3\n",
            "2 6 2\n",
            "1 4 6 2 3 7 10 5 8 9\n"
          ]
        }
      ]
    }
  ]
}