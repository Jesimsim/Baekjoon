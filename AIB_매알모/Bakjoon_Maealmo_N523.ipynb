{
  "nbformat": 4,
  "nbformat_minor": 0,
  "metadata": {
    "colab": {
      "provenance": [],
      "authorship_tag": "ABX9TyN6Q9mS6I5qlfkwoeDqo0sB",
      "include_colab_link": true
    },
    "kernelspec": {
      "name": "python3",
      "display_name": "Python 3"
    },
    "language_info": {
      "name": "python"
    }
  },
  "cells": [
    {
      "cell_type": "markdown",
      "metadata": {
        "id": "view-in-github",
        "colab_type": "text"
      },
      "source": [
        "<a href=\"https://colab.research.google.com/github/Jesimsim/Baekjoon/blob/main/AIB_%EB%A7%A4%EC%95%8C%EB%AA%A8/Bakjoon_Maealmo_N523.ipynb\" target=\"_parent\"><img src=\"https://colab.research.google.com/assets/colab-badge.svg\" alt=\"Open In Colab\"/></a>"
      ]
    },
    {
      "cell_type": "code",
      "execution_count": null,
      "metadata": {
        "colab": {
          "base_uri": "https://localhost:8080/"
        },
        "id": "TjeLHQ2j2Qdm",
        "outputId": "2fd7eb96-6d58-4a77-c398-189415745cda"
      },
      "outputs": [
        {
          "output_type": "stream",
          "name": "stdout",
          "text": [
            "1 2 3\n",
            "3 4 4\n",
            "1 4 1\n",
            "2 2 2\n",
            "1 2 1 1 0 "
          ]
        }
      ],
      "source": [
        "# 10810 공넣기\n",
        "\n",
        "n, m = map(int, input().split())\n",
        "lst = [[] for i in range(n)]\n",
        "\n",
        "for iter in range(m):\n",
        "  i, j, k = map(int, input().split())\n",
        "  for a in range(i-1, j):\n",
        "    lst[a].append(k)\n",
        "\n",
        "for i in range(n):\n",
        "  if lst[i] == []:\n",
        "    print(0, end=' ')\n",
        "  else:\n",
        "    print(lst[i][-1], end=' ')"
      ]
    },
    {
      "cell_type": "code",
      "source": [
        "# 10813 공 바꾸기\n",
        "\n",
        "n, m = map(int, input().split())\n",
        "lst = [i for i in range(1, n+1)]\n",
        "\n",
        "for iter in range(m):\n",
        "  i, j = map(int, input().split())\n",
        "  lst[i-1], lst[j-1] = lst[j-1], lst[i-1]\n",
        "\n",
        "print(*lst) # 대괄호없이 출력"
      ],
      "metadata": {
        "colab": {
          "base_uri": "https://localhost:8080/"
        },
        "id": "Smke3pgzJJD0",
        "outputId": "6de817fd-ec4f-475d-ec99-9e134ec2289e"
      },
      "execution_count": null,
      "outputs": [
        {
          "output_type": "stream",
          "name": "stdout",
          "text": [
            "5 4\n",
            "1 2\n",
            "3 4\n",
            "1 4 \n",
            "2 2\n",
            "3 1 4 2 5\n"
          ]
        }
      ]
    },
    {
      "cell_type": "code",
      "source": [
        "# 10813 바구니 뒤집기 \n",
        "\n",
        "n, m = map(int, input().split())\n",
        "lst = [i for i in range(1, n+1)]\n",
        "\n",
        "for iter in range(m):\n",
        "  i, j = map(int, input().split())\n",
        "\n",
        "  if i == j:\n",
        "    # print(lst)\n",
        "    continue\n",
        "  elif j - i + 1 % 2: # 원소개수가 짝수면 \n",
        "    while i <= j:\n",
        "      lst[i-1], lst[j-1] = lst[j-1], lst[i-1]\n",
        "      i += 1\n",
        "      j -= 1\n",
        "      # print(lst)\n",
        "  else:\n",
        "    while i != (i+j//2)-1:\n",
        "      lst[i-1], lst[j-1] = lst[j-1], lst[i-1]\n",
        "      i += 1\n",
        "      j -= 1\n",
        "      # print(lst)\n",
        "\n",
        "print(*lst) # 대괄호없이 출력"
      ],
      "metadata": {
        "colab": {
          "base_uri": "https://localhost:8080/"
        },
        "id": "8ny4eGWWLVEx",
        "outputId": "c325759e-bdd2-4da0-97c4-f642a702515b"
      },
      "execution_count": null,
      "outputs": [
        {
          "output_type": "stream",
          "name": "stdout",
          "text": [
            "5 4\n",
            "1 2\n",
            "[2, 1, 3, 4, 5]\n",
            "3 4\n",
            "[2, 1, 4, 3, 5]\n",
            "1 4\n",
            "[3, 1, 4, 2, 5]\n",
            "[3, 4, 1, 2, 5]\n",
            "2 2\n",
            "[3, 4, 1, 2, 5]\n",
            "3 4 1 2 5\n"
          ]
        }
      ]
    },
    {
      "cell_type": "code",
      "source": [
        "# 바구니 바꾸기\n",
        "n, m = map(int, input().split())\n",
        "lst = [i for i in range(1, n+1)]\n",
        "\n",
        "for iter in range(m):\n",
        "  i, j = map(int, input().split())\n",
        "  lst[i-1], lst[j-1] = lst[j-1], lst[i-1]\n",
        "  print(lst)\n",
        "\n",
        "print(*lst) # 대괄호없이 출력"
      ],
      "metadata": {
        "id": "s56q_2iXPUHr"
      },
      "execution_count": null,
      "outputs": []
    }
  ]
}